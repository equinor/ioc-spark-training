{
 "cells": [
  {
   "cell_type": "code",
   "execution_count": 1,
   "metadata": {},
   "outputs": [],
   "source": [
    "import sys\n",
    "import requests\n",
    " \n",
    "from pyspark import SparkContext, SparkConf"
   ]
  },
  {
   "cell_type": "code",
   "execution_count": 11,
   "metadata": {},
   "outputs": [],
   "source": [
    "# Fetch the data file\n",
    "data_destination_file = \"../data/shakespeare.txt\" \n",
    "\n",
    "with open(\"../data/shakespeare.url\",\"r\") as furl:\n",
    "    url = furl.read().strip()\n",
    "    text = requests.get(url).text\n",
    "\n",
    "with open( data_destination_file, \"w\") as fout:\n",
    "    fout.write(text)\n"
   ]
  },
  {
   "cell_type": "code",
   "execution_count": 14,
   "metadata": {},
   "outputs": [],
   "source": [
    "if __name__ == \"__main__\":\n",
    "    \n",
    "    try:\n",
    "        sc.stop()\n",
    "    except:\n",
    "        pass\n",
    "    from pyspark import SparkContext, SparkConf\n",
    "    from pyspark.sql import SparkSession\n",
    "    sc = SparkContext()\n",
    "    spark = SparkSession(sparkContext=sc)\n",
    "\n",
    "    # read data from text file and split each line into words (flatmap)\n",
    "    \n",
    "    \n",
    "    # count the occurrence of each word (map, reduceByKey)\n",
    "    \n",
    "    # save the counts to output\n",
    "    wordCounts.saveAsTextFile(\"../data/shakespeare_counted.txt\")"
   ]
  }
 ],
 "metadata": {
  "kernelspec": {
   "display_name": "Python 3",
   "language": "python",
   "name": "python3"
  },
  "language_info": {
   "codemirror_mode": {
    "name": "ipython",
    "version": 3
   },
   "file_extension": ".py",
   "mimetype": "text/x-python",
   "name": "python",
   "nbconvert_exporter": "python",
   "pygments_lexer": "ipython3",
   "version": "3.7.4"
  }
 },
 "nbformat": 4,
 "nbformat_minor": 2
}
